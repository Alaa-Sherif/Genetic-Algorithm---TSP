{
 "cells": [
  {
   "cell_type": "markdown",
   "id": "205ef4e9",
   "metadata": {},
   "source": [
    "### Import necessary liberaries"
   ]
  },
  {
   "cell_type": "code",
   "execution_count": 131,
   "id": "0965ab5a",
   "metadata": {},
   "outputs": [],
   "source": [
    "import numpy as np\n",
    "import pandas as pd\n",
    "import matplotlib.pyplot as plt\n",
    "from matplotlib.widgets import Cursor\n",
    "import random\n",
    "from copy import deepcopy"
   ]
  },
  {
   "cell_type": "markdown",
   "id": "0dc5e9eb",
   "metadata": {},
   "source": [
    "### Let's state the steps to implement the Genetic Algorithm\n",
    "1. We need to initialize the algorithm paramenters:\n",
    "    - population_size\n",
    "    - no_of_iterations / generations count (the Stopping Condition)\n",
    "    - Elitism percentage(k) of population (best k paths/tours)\n",
    "    - Crossover probability (generate new 2 tours from 2 older tours)\n",
    "    - Mutation probability (swapping p of the cities in the same tour)\n",
    "---------------------------------------------------------------------\n",
    "2. Create class for Tour and City:\n",
    "    - Tour class has:\n",
    "        - list of cities\n",
    "        - fitness score\n",
    "        - distance/cost\n",
    "        \n",
    "    - City class has:\n",
    "        - city name\n",
    "        - x coordinate\n",
    "        - y coordinate\n",
    "----------------------------------------------------------------------\n",
    "3. Initialze Population():\n",
    "    - Generate tour from permutation(). Note: create deepcopy first\n",
    "    - Calculate the fitness score (list) for the generated tour (1/tour cost)\n",
    "        - Ex. c1 --->(2) c3 --->(1) c5 --->(6) c2\n",
    "        - cost = 2 + 1 + 6 = 9  , ===>  so, fitness = 1/9\n",
    "    - Add the tour to the population\n",
    "----------------------------------------------------------------------\n",
    "4. Fitness_evaluation():\n",
    "    - calculate the cost of the current tour\n",
    "    - store the cost\n",
    "    - calculate the fitness (1/cost)\n",
    "    - store the fitness\n",
    "----------------------------------------------------------------------\n",
    "5. Elitism():\n",
    "    - caculate the number of elitism we're gonna choose based on the percentage\n",
    "    - select top fittest tours\n",
    "    - add elite tour to the new generation list (new pop)\n",
    "----------------------------------------------------------------------\n",
    "6. tournament_selection():\n",
    "    - select random k tours\n",
    "    - choose the fittest\n",
    "----------------------------------------------------------------------\n",
    "7. Crossover():  ---> use partial mapped crossover\n",
    "    - crossover count (note: we will choose from the population except the elitism) so, count = (pop_size - no_of_elite tours)/2\n",
    "    - iterate over the crossover count:\n",
    "        - parent1 = tournament_selection()\n",
    "        - parent2 = tournament_selection()\n",
    "        - generate random number rn\n",
    "            - if rn < crossover prob:\n",
    "                - apply partial mapped crossover on parent1 and parent2\n",
    "                - evaluate child1 and child2 fitness\n",
    "                - insert the childerns to new generation list\n",
    "            - else:\n",
    "                - insert the parents to new generation list\n",
    "----------------------------------------------------------------------\n",
    "8. Mutation():  (swap mutation)\n",
    "    - iterate over the population size:\n",
    "        - parent1 = select random parent from new generation list\n",
    "        - generate random double number from 0-->1\n",
    "        - if the rn < mutation prob:\n",
    "            - apply the swap mutation to parent1\n",
    "            - evaluate its fitness\n",
    "            - replace parent1 by mutated parent1 into the new gen list\n",
    "  "
   ]
  },
  {
   "cell_type": "code",
   "execution_count": 21,
   "id": "ec3a009c",
   "metadata": {},
   "outputs": [],
   "source": [
    "# Choromosome\n",
    "class Tour:\n",
    "    def __init__(self, cities_list):\n",
    "        self.fitness = 0\n",
    "        self.cost = 0\n",
    "        self.cities = cities_list\n",
    "         \n",
    "    def __repr__(self):\n",
    "        return f\"{self.cities}\\nCost = {self.cost}\""
   ]
  },
  {
   "cell_type": "code",
   "execution_count": 22,
   "id": "94ca57b0",
   "metadata": {},
   "outputs": [],
   "source": [
    "# Gene\n",
    "class City:\n",
    "    def __init__(self, n, x, y):\n",
    "        self.name = n\n",
    "        self.x_coor = x\n",
    "        self.y_coor = y\n",
    "        \n",
    "    def __repr__(self):\n",
    "        return f\"{self.name}\""
   ]
  },
  {
   "cell_type": "markdown",
   "id": "321bf112",
   "metadata": {},
   "source": [
    "### Read the data"
   ]
  },
  {
   "cell_type": "code",
   "execution_count": 63,
   "id": "eb9b6e38",
   "metadata": {},
   "outputs": [],
   "source": [
    "def read_data(data):\n",
    "    data_list = []\n",
    "    m = data.shape[0]\n",
    "    \n",
    "    for i in range(m):\n",
    "        data_list.append(City(data['City'][i], data['x'][i], data['y'][i]))\n",
    "        \n",
    "    return data_list"
   ]
  },
  {
   "cell_type": "code",
   "execution_count": 24,
   "id": "a38e5dce",
   "metadata": {},
   "outputs": [],
   "source": [
    "def get_distance(city1, city2):\n",
    "    x_diff = city1.x_coor - city2.x_coor\n",
    "    y_diff = city1.y_coor - city2.y_coor\n",
    "    distance = np.sqrt((x_diff ** 2) + (y_diff ** 2))\n",
    "#     print(f\"***** Distance Between {city1.name} & {city2.name} *****\")\n",
    "#     print(\"Distance:\", distance)\n",
    "    return distance"
   ]
  },
  {
   "cell_type": "code",
   "execution_count": 25,
   "id": "87ea9f38",
   "metadata": {},
   "outputs": [],
   "source": [
    "def distance_matrix(tour):\n",
    "    m = len(tour)\n",
    "    matrix = np.zeros ((m, m))\n",
    "    for i in range(m):\n",
    "        for j in range(m):\n",
    "            matrix[i][j] = get_distance(tour[i], tour[j])\n",
    "            \n",
    "    return matrix"
   ]
  },
  {
   "cell_type": "code",
   "execution_count": 26,
   "id": "ea8eb539",
   "metadata": {},
   "outputs": [],
   "source": [
    "def get_tour_cost(tour, dist_matrix):\n",
    "#     print(\"***** Get Tour Cost *****\")\n",
    "    cost = 0\n",
    "    for i in range(len(tour.cities)-1):\n",
    "        city1 = tour.cities[i]\n",
    "        city2 = tour.cities[i+1]\n",
    "        cost += dist_matrix[(city1.name)-1, (city2.name)-1] # indicies\n",
    "    # cost of returning back to the starting point\n",
    "    cost += get_distance(tour.cities[-1], tour.cities[0])\n",
    "\n",
    "    return cost"
   ]
  },
  {
   "cell_type": "code",
   "execution_count": 27,
   "id": "723e5b30",
   "metadata": {},
   "outputs": [],
   "source": [
    "def get_tour_fitness(tour, dist_matrix):\n",
    "#     print(\"***** Get Tour Fitness *****\")\n",
    "    fitness = 1/get_tour_cost(tour, dist_matrix)\n",
    "    return fitness"
   ]
  },
  {
   "cell_type": "code",
   "execution_count": 28,
   "id": "0a1da18a",
   "metadata": {},
   "outputs": [],
   "source": [
    "def initialize_population(data_lst, pop_size, dist_matrix):\n",
    "#     print(\"***** Initial Population *****\")\n",
    "    population = []\n",
    "    for i in range(pop_size):\n",
    "        tour = Tour(list(np.random.permutation(data_lst)))\n",
    "        tour.cost = get_tour_cost(tour, dist_matrix)\n",
    "        tour.fitness = get_tour_fitness(tour, dist_matrix)\n",
    "        population.append(tour)\n",
    "        \n",
    "    return population"
   ]
  },
  {
   "cell_type": "code",
   "execution_count": 29,
   "id": "4d96962f",
   "metadata": {},
   "outputs": [],
   "source": [
    "def elitism(population, elite_num):\n",
    "#     print(\"***** Elitism Selection *****\")\n",
    "    sorted_pop = sorted(population, key=lambda tour: tour.fitness, reverse=True)\n",
    "    return sorted_pop[:elite_num]"
   ]
  },
  {
   "cell_type": "code",
   "execution_count": 30,
   "id": "b51b1e79",
   "metadata": {},
   "outputs": [],
   "source": [
    "def tournament_selection(pop):\n",
    "    candidates = random.choices(pop, k=5)\n",
    "#     print(\"***** Tournament Selection *****\")\n",
    "    return max(candidates, key = lambda x: x.fitness)"
   ]
  },
  {
   "cell_type": "code",
   "execution_count": 31,
   "id": "c2badd77",
   "metadata": {},
   "outputs": [],
   "source": [
    "def PMC_crossover(parent1, parent2, distance_matrix):\n",
    "    crossover_point = random.choices(range(len(parent1.cities)), k=2)\n",
    "    r1 = min(crossover_point)\n",
    "    r2 = max(crossover_point)\n",
    "    \n",
    "    child1 = deepcopy(parent1)\n",
    "    child2 = deepcopy(parent2)\n",
    "    \n",
    "    for i in range(r1, r2):\n",
    "        temp1 = parent2.cities[i]\n",
    "        temp2 = parent1.cities[i]\n",
    "        \n",
    "        indx1 = [c.name for c in child1.cities].index(temp1.name)\n",
    "        indx2 = [c.name for c in child2.cities].index(temp2.name)\n",
    "        \n",
    "        child1.cities[indx1] = child1.cities[i]   \n",
    "        child2.cities[indx2] = child2.cities[i]\n",
    "        \n",
    "        child1.cities[i] = temp1\n",
    "        child2.cities[i] = temp2\n",
    "       \n",
    "    child1.cost = get_tour_cost(child1, distance_matrix)\n",
    "    child2.cost = get_tour_cost(child2, distance_matrix)\n",
    "\n",
    "    child1.fitness = 1/child1.cost\n",
    "    child2.fitness = 1/child2.cost\n",
    "    \n",
    "    return child1, child2"
   ]
  },
  {
   "cell_type": "code",
   "execution_count": 32,
   "id": "f591286a",
   "metadata": {},
   "outputs": [],
   "source": [
    "def crossover(pop_size, crossover_prob, oldpop, distance_matrix):\n",
    "#     print(\"***** Crossover *****\")\n",
    "    new_pop = []\n",
    "    while True:\n",
    "        parent1 = tournament_selection(oldpop)\n",
    "        parent2 = tournament_selection(oldpop)\n",
    "        rand_num = random.uniform(0,1)\n",
    "\n",
    "        # apply partial crossover\n",
    "        if rand_num < crossover_prob:\n",
    "            child1, child2 = PMC_crossover(parent1, parent2, distance_matrix)   \n",
    "\n",
    "            new_pop.append(child1)\n",
    "            new_pop.append(child2)\n",
    "\n",
    "        else:\n",
    "            new_pop.append(parent1)\n",
    "            new_pop.append(parent2)\n",
    "            \n",
    "        if len(new_pop) == pop_size:\n",
    "            return new_pop"
   ]
  },
  {
   "cell_type": "code",
   "execution_count": 33,
   "id": "637ea9ef",
   "metadata": {},
   "outputs": [],
   "source": [
    "def tour_mutation(tour):\n",
    "#     print(\"***** Tour Mutation *****\")\n",
    "    tour_length = len(tour.cities)\n",
    "    swap_points = np.random.choice(np.arange(0, tour_length), size= 2, replace=False)\n",
    "    c1, c2 = min(swap_points), max(swap_points)\n",
    "    # swap cities then return the route again\n",
    "    tour.cities[c1], tour.cities[c2] = tour.cities[c2], tour.cities[c1]\n",
    "    return tour"
   ]
  },
  {
   "cell_type": "code",
   "execution_count": 43,
   "id": "5feaef4d",
   "metadata": {},
   "outputs": [],
   "source": [
    "def mutation(pop_size, pop, elite_num, mutation_prob, dist_matrix):\n",
    "#     print(\"***** Mutation *****\")\n",
    "    mutation_size = mutation_prob * pop_size\n",
    "    rand_tours = np.random.choice(np.arange(elite_num, pop_size), size = round(mutation_size), replace=False)\n",
    "    rand_num = random.uniform(0,1)\n",
    "#     if rand_num < mutation_prob:\n",
    "    for tour in rand_tours:\n",
    "        pop[tour] = tour_mutation(pop[tour])\n",
    "        pop[tour].cost = get_tour_cost(pop[tour], dist_matrix)\n",
    "        pop[tour].fitness = 1 / pop[tour].cost\n",
    "\n",
    "    return pop"
   ]
  },
  {
   "cell_type": "code",
   "execution_count": 35,
   "id": "3e43d155",
   "metadata": {},
   "outputs": [],
   "source": [
    "def Gene_Algo(pop_size, oldpop, num_elite, mutation_prob, crossover_prob, distance_matrix):\n",
    "    newpop = []\n",
    "\n",
    "    elites = elitism(oldpop, num_elite)\n",
    "    newpop.extend(elites)\n",
    "\n",
    "    newpop = crossover(pop_size, crossover_prob, oldpop, distance_matrix)\n",
    "    newpop = mutation(pop_size, newpop, num_elite, mutation_prob, distance_matrix)\n",
    "\n",
    "    return newpop"
   ]
  },
  {
   "cell_type": "code",
   "execution_count": 105,
   "id": "3a4482c0",
   "metadata": {},
   "outputs": [],
   "source": [
    "def run_algorithm(data):\n",
    "    # initialize parameters\n",
    "    mutation_prob = 0.3\n",
    "    crossover_prob = 0.7\n",
    "    population_size = 400\n",
    "    num_elite = 100\n",
    "    num_generations = 100\n",
    "    \n",
    "    lst = read_data(data)\n",
    "    dist_matrix = distance_matrix(lst)\n",
    "    population = initialize_population(lst, population_size, dist_matrix)\n",
    "    \n",
    "    for i in range (num_generations):   \n",
    "        population = Gene_Algo(population_size, population, num_elite, mutation_prob, crossover_prob, dist_matrix)\n",
    "        population = elitism(population, num_elite)\n",
    "\n",
    "    result = elitism(population, num_elite)[0]\n",
    "    result.cities.append(result.cities[0])\n",
    "    print(\"Final Cost:\", result)\n",
    "    return result"
   ]
  },
  {
   "cell_type": "code",
   "execution_count": 106,
   "id": "bbf86ad4",
   "metadata": {},
   "outputs": [],
   "source": [
    "df = pd.read_csv('15-Points.csv')"
   ]
  },
  {
   "cell_type": "code",
   "execution_count": 107,
   "id": "1327d4f9",
   "metadata": {},
   "outputs": [
    {
     "name": "stdout",
     "output_type": "stream",
     "text": [
      "Final Cost: [14, 12, 3, 7, 5, 9, 15, 2, 13, 1, 11, 4, 6, 8, 10, 14]\n",
      "Cost = 284.3810904080331\n"
     ]
    }
   ],
   "source": [
    "ans = run_algorithm(df)"
   ]
  },
  {
   "cell_type": "markdown",
   "id": "d3983332",
   "metadata": {},
   "source": [
    "### Plot the Shortest Path"
   ]
  },
  {
   "cell_type": "code",
   "execution_count": 108,
   "id": "ef1ff9a9",
   "metadata": {},
   "outputs": [],
   "source": [
    "X = [city.x_coor  for city in ans.cities]\n",
    "Y = [city.y_coor  for city in ans.cities]"
   ]
  },
  {
   "cell_type": "code",
   "execution_count": 109,
   "id": "d97fd469",
   "metadata": {},
   "outputs": [],
   "source": [
    "plt.plot(X, Y, '-o')\n",
    "plt.title(f'Genetic Algorithm for TSP Path with cost = {ans.cost}')\n",
    "plt.xlabel('Longitude')\n",
    "plt.ylabel('Latitude')\n",
    "plt.grid()\n",
    "plt.show()"
   ]
  },
  {
   "cell_type": "code",
   "execution_count": 110,
   "id": "18898901",
   "metadata": {},
   "outputs": [],
   "source": [
    "%matplotlib qt"
   ]
  },
  {
   "cell_type": "code",
   "execution_count": 176,
   "id": "8f50b779",
   "metadata": {},
   "outputs": [],
   "source": [
    "def ginput_fun():\n",
    "    points = []\n",
    "    \n",
    "    # display a plot and wait for the user to click on num_points points\n",
    "    fig, ax = plt.subplots()\n",
    "    plt.title(f\"Enter points\")\n",
    "    plt.xlim(0, 10)\n",
    "    plt.ylim(0, 10)\n",
    "    plt.draw()\n",
    "    \n",
    "    cursor = Cursor(ax, horizOn=True, vertOn=True, useblit=True, color='black', linewidth=1)\n",
    "    \n",
    "    # take input fro\n",
    "    while True:\n",
    "        # get the first tuple (first point)\n",
    "        point = plt.ginput(1)\n",
    "        if point:\n",
    "            point=point[0]\n",
    "        else:\n",
    "            break\n",
    "#         print(point)\n",
    "        points.append(point)\n",
    "        plt.plot(point[0], point[1], 'go')\n",
    "        plt.draw()  \n",
    "        \n",
    "    # put the points into a dataframe\n",
    "    point_dicts = [{'x': point[0], 'y': point[1]} for point in points]\n",
    "    n=len(points)\n",
    "    city = [i+1 for i in range(n)]\n",
    "    data = pd.DataFrame(point_dicts)\n",
    "\n",
    "    # add column called city at index 2\n",
    "    data.insert(2, 'City', city)\n",
    "    \n",
    "    # save data to csv file\n",
    "    data.to_csv('my_data.csv', index = False)\n",
    "    \n",
    "    # get the nearest neighbor\n",
    "    best_sol = run_algorithm(data)\n",
    "    \n",
    "    X = [city.x_coor  for city in best_sol.cities]\n",
    "    Y = [city.y_coor  for city in best_sol.cities]\n",
    "    \n",
    "    # list of tuples [(x, y)]\n",
    "    my_path = [(X[i], Y[i]) for i in range(len(X))]\n",
    "\n",
    "    \n",
    "    for i in range(len(my_path)+1):\n",
    "        try:\n",
    "            plt.plot([my_path[i][0], my_path[i+1][0]], [my_path[i][1], my_path[i+1][1]], '-o', color='green')\n",
    "            plt.pause(0.3)\n",
    "        except:\n",
    "            continue\n",
    "\n",
    "    plt.title(f'Genetic Algorithm (TSP) Path, Cost = {best_sol.cost}')\n",
    "    i = 1\n",
    "    for x, y in points:\n",
    "        plt.text(x, y+0.3 ,f'C{i}')\n",
    "        i+=1\n",
    "        \n",
    "    plt.xlabel('Longitude')\n",
    "    plt.ylabel('Latitude')\n",
    "    plt.show()   "
   ]
  },
  {
   "cell_type": "code",
   "execution_count": 198,
   "id": "a5e3ea99",
   "metadata": {},
   "outputs": [
    {
     "name": "stdout",
     "output_type": "stream",
     "text": [
      "Final Cost: [11, 14, 16, 15, 17, 9, 8, 7, 6, 5, 4, 3, 2, 10, 1, 12, 13, 11]\n",
      "Cost = 43.309047574691974\n"
     ]
    }
   ],
   "source": [
    "ginput_fun()"
   ]
  },
  {
   "cell_type": "code",
   "execution_count": null,
   "id": "c0918b7c",
   "metadata": {},
   "outputs": [],
   "source": []
  }
 ],
 "metadata": {
  "kernelspec": {
   "display_name": "Python 3",
   "language": "python",
   "name": "python3"
  },
  "language_info": {
   "codemirror_mode": {
    "name": "ipython",
    "version": 3
   },
   "file_extension": ".py",
   "mimetype": "text/x-python",
   "name": "python",
   "nbconvert_exporter": "python",
   "pygments_lexer": "ipython3",
   "version": "3.8.8"
  }
 },
 "nbformat": 4,
 "nbformat_minor": 5
}
